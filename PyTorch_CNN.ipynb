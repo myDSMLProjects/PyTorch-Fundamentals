{
  "nbformat": 4,
  "nbformat_minor": 0,
  "metadata": {
    "colab": {
      "name": "PyTorch CNN.ipynb",
      "provenance": [],
      "authorship_tag": "ABX9TyMs/su0rajEbp6rKcgzEOde",
      "include_colab_link": true
    },
    "kernelspec": {
      "name": "python3",
      "display_name": "Python 3"
    },
    "accelerator": "GPU"
  },
  "cells": [
    {
      "cell_type": "markdown",
      "metadata": {
        "id": "view-in-github",
        "colab_type": "text"
      },
      "source": [
        "<a href=\"https://colab.research.google.com/github/myDSMLProjects/PyTorch-Fundamentals/blob/master/PyTorch_CNN.ipynb\" target=\"_parent\"><img src=\"https://colab.research.google.com/assets/colab-badge.svg\" alt=\"Open In Colab\"/></a>"
      ]
    },
    {
      "cell_type": "code",
      "metadata": {
        "id": "Z_l9pu0TM3OB",
        "colab_type": "code",
        "colab": {}
      },
      "source": [
        "import torch\n",
        "import torch.nn as nn\n",
        "import torchvision\n",
        "from torch.utils.data import DataLoader\n",
        "import torch.optim as optim\n",
        "import torchvision.datasets as datasets\n",
        "import torchvision.transforms as transforms\n",
        "import torch.nn.functional as F"
      ],
      "execution_count": null,
      "outputs": []
    },
    {
      "cell_type": "code",
      "metadata": {
        "id": "zlHwESF9NU8s",
        "colab_type": "code",
        "colab": {}
      },
      "source": [
        "class CNN(nn.Module):\n",
        "  def __init__(self, in_channels=1, num_classes=10):\n",
        "    super(CNN, self).__init__()\n",
        "\n",
        "    self.conv1 = nn.Conv2d(in_channels=in_channels, out_channels=8, kernel_size=3, stride=1, padding=1)  # (B, 1, 28, 28)\n",
        "    self.pool1 = nn.MaxPool2d(kernel_size=2, stride=2)\n",
        "    self.conv2 = nn.Conv2d(in_channels=8, out_channels=16, kernel_size=3, stride=1, padding=1)\n",
        "    self.pool2 = nn.MaxPool2d(kernel_size=2, stride=2)\n",
        "\n",
        "    self.fc1 = nn.Linear(in_features = 16*7*7, out_features=num_classes)\n",
        "\n",
        "  def forward(self, x):\n",
        "    x = F.relu(self.conv1(x))\n",
        "    x = self.pool1(x)\n",
        "    x = F.relu(self.conv2(x))\n",
        "    x = self.pool2(x)\n",
        "    x = x.reshape(x.shape[0], -1)\n",
        "    x = self.fc1(x)\n",
        "\n",
        "    return x"
      ],
      "execution_count": null,
      "outputs": []
    },
    {
      "cell_type": "code",
      "metadata": {
        "id": "OrC5OWHEV-tB",
        "colab_type": "code",
        "colab": {}
      },
      "source": [
        "device = torch.device('cuda' if torch.cuda.is_available() else 'cpu')"
      ],
      "execution_count": null,
      "outputs": []
    },
    {
      "cell_type": "code",
      "metadata": {
        "id": "RPh7nBY4XJAz",
        "colab_type": "code",
        "colab": {}
      },
      "source": [
        "# Hyperparameters\n",
        "learning_rate=0.001\n",
        "batch_size=64\n",
        "num_epochs = 5"
      ],
      "execution_count": null,
      "outputs": []
    },
    {
      "cell_type": "code",
      "metadata": {
        "id": "eZ50o04xXtWR",
        "colab_type": "code",
        "colab": {}
      },
      "source": [
        "train_dataset = datasets.MNIST(root = 'datasets/MNIST', train=True, download=True, transform=transforms.ToTensor())\n",
        "test_dataset = datasets.MNIST(root='datasets/MNIST', download=True, train=False, transform=transforms.ToTensor())\n",
        "train_loader = DataLoader(train_dataset, batch_size=batch_size, shuffle=True)\n",
        "test_loader = DataLoader(test_dataset, shuffle=False, batch_size=batch_size)"
      ],
      "execution_count": null,
      "outputs": []
    },
    {
      "cell_type": "code",
      "metadata": {
        "id": "y-ia5XxGYzEG",
        "colab_type": "code",
        "colab": {
          "base_uri": "https://localhost:8080/",
          "height": 351
        },
        "outputId": "34b9ee72-e350-4c14-ab07-d4a5e0fac6c7"
      },
      "source": [
        "# Creating the model and initializing the network\n",
        "model = CNN()\n",
        "model.to(device)\n",
        "\n",
        "# define loss criterion and optimizer\n",
        "loss_criterion = nn.CrossEntropyLoss()\n",
        "optimizer = optim.Adam(lr = learning_rate, params = model.parameters())\n",
        "\n",
        "for epoch in range(num_epochs):\n",
        "  for batch_idx, (data,targets) in enumerate(train_loader):\n",
        "    data = data.to(device=device)\n",
        "    targets = targets.to(device=device)\n",
        "\n",
        "    scores = model(data)\n",
        "    loss = loss_criterion(scores, targets)\n",
        "\n",
        "    optimizer.zero_grad()\n",
        "    loss.backward()\n",
        "\n",
        "    optimizer.step()\n",
        "\n",
        "  def check_accuracy(loader, model):\n",
        "    if loader.dataset.train:\n",
        "      print('Checking accuracy on training data')\n",
        "    else:\n",
        "      print('Checking accuracy on test data')\n",
        "\n",
        "    num_correct = 0\n",
        "    num_samples = 0\n",
        "    model.eval()\n",
        "\n",
        "    with torch.no_grad():\n",
        "      for x, y in loader:\n",
        "        x = x.to(device)\n",
        "        y = y.to(device)\n",
        "\n",
        "        scores = model(x)\n",
        "        _, predictions = scores.max(1)\n",
        "        num_correct += (predictions==y).sum()\n",
        "        num_samples += predictions.size(0)\n",
        "      \n",
        "      print(f'Got {num_correct}/{num_samples} with accuracy {float(num_correct)/float(num_samples)*100:.2f}')\n",
        "\n",
        "    model.train()\n",
        "\n",
        "  check_accuracy(train_loader, model)\n",
        "  check_accuracy(test_loader, model)"
      ],
      "execution_count": null,
      "outputs": [
        {
          "output_type": "stream",
          "text": [
            "Checking accuracy on training data\n",
            "Got 57888/60000 with accuracy 96.48\n",
            "Checking accuracy on test data\n",
            "Got 9665/10000 with accuracy 96.65\n",
            "Checking accuracy on training data\n",
            "Got 58662/60000 with accuracy 97.77\n",
            "Checking accuracy on test data\n",
            "Got 9781/10000 with accuracy 97.81\n",
            "Checking accuracy on training data\n",
            "Got 58910/60000 with accuracy 98.18\n",
            "Checking accuracy on test data\n",
            "Got 9799/10000 with accuracy 97.99\n",
            "Checking accuracy on training data\n",
            "Got 59088/60000 with accuracy 98.48\n",
            "Checking accuracy on test data\n",
            "Got 9837/10000 with accuracy 98.37\n",
            "Checking accuracy on training data\n",
            "Got 59184/60000 with accuracy 98.64\n",
            "Checking accuracy on test data\n",
            "Got 9854/10000 with accuracy 98.54\n"
          ],
          "name": "stdout"
        }
      ]
    },
    {
      "cell_type": "code",
      "metadata": {
        "id": "vuACmmBL2ay0",
        "colab_type": "code",
        "colab": {}
      },
      "source": [
        ""
      ],
      "execution_count": null,
      "outputs": []
    }
  ]
}